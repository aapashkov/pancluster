{
 "cells": [
  {
   "cell_type": "markdown",
   "metadata": {},
   "source": [
    "##### Imports"
   ]
  },
  {
   "cell_type": "code",
   "execution_count": 1,
   "metadata": {
    "execution": {
     "iopub.execute_input": "2023-10-12T04:29:44.563894Z",
     "iopub.status.busy": "2023-10-12T04:29:44.562662Z",
     "iopub.status.idle": "2023-10-12T04:29:45.310097Z",
     "shell.execute_reply": "2023-10-12T04:29:45.309195Z"
    }
   },
   "outputs": [],
   "source": [
    "import gzip\n",
    "import os\n",
    "import shutil\n",
    "import subprocess\n",
    "from pathlib import Path\n",
    "\n",
    "import matplotlib.pyplot as plt\n",
    "import numpy as np\n",
    "import pandas as pd\n",
    "import seaborn as sns\n",
    "from Bio import SeqIO\n",
    "from matplotlib.cm import ScalarMappable\n",
    "from matplotlib.colors import LinearSegmentedColormap"
   ]
  },
  {
   "cell_type": "markdown",
   "metadata": {},
   "source": [
    "##### Illumina trimming"
   ]
  },
  {
   "cell_type": "code",
   "execution_count": 2,
   "metadata": {
    "execution": {
     "iopub.execute_input": "2023-10-12T04:29:45.315905Z",
     "iopub.status.busy": "2023-10-12T04:29:45.315519Z",
     "iopub.status.idle": "2023-10-12T04:29:45.321996Z",
     "shell.execute_reply": "2023-10-12T04:29:45.321017Z"
    }
   },
   "outputs": [],
   "source": [
    "f1 = Path(\"fus11/reads/raw/illumina_1.fq.gz\")\n",
    "f2 = Path(\"fus11/reads/raw/illumina_2.fq.gz\")\n",
    "output = Path(\"fus11/reads/trimmed/\")\n",
    "\n",
    "\n",
    "if not (output/\"illumina_1.fq.gz\").exists():\n",
    "    os.makedirs(output, exist_ok=True)\n",
    "    cmd = (\n",
    "        f\"trim_galore -length 40 -o {output} --cores 4 --paired \"\n",
    "        f\"--no_report_file {f1} {f2}\")\n",
    "    subprocess.run(cmd, shell=True)\n",
    "    shutil.move(output/\"illumina_val_1.fq.gz\", output/\"illumina_1.fq.gz\")\n",
    "    shutil.move(output/\"illumina_val_2.fq.gz\", output/\"illumina_2.fq.gz\")"
   ]
  },
  {
   "cell_type": "markdown",
   "metadata": {},
   "source": [
    "##### Reference alignment of reads"
   ]
  },
  {
   "cell_type": "code",
   "execution_count": 8,
   "metadata": {
    "execution": {
     "iopub.execute_input": "2023-10-12T04:29:45.327925Z",
     "iopub.status.busy": "2023-10-12T04:29:45.327354Z",
     "iopub.status.idle": "2023-10-12T04:29:45.339300Z",
     "shell.execute_reply": "2023-10-12T04:29:45.338386Z"
    }
   },
   "outputs": [
    {
     "name": "stderr",
     "output_type": "stream",
     "text": [
      "samtools: /home/anton/micromamba/envs/pancluster/bin/../lib/libtinfow.so.6: no version information available (required by samtools)\n",
      "samtools: /home/anton/micromamba/envs/pancluster/bin/../lib/libncursesw.so.6: no version information available (required by samtools)\n",
      "samtools: /home/anton/micromamba/envs/pancluster/bin/../lib/libncursesw.so.6: no version information available (required by samtools)\n",
      "samtools: /home/anton/micromamba/envs/pancluster/bin/../lib/libtinfow.so.6: no version information available (required by samtools)\n",
      "samtools: /home/anton/micromamba/envs/pancluster/bin/../lib/libncursesw.so.6: no version information available (required by samtools)\n",
      "samtools: /home/anton/micromamba/envs/pancluster/bin/../lib/libncursesw.so.6: no version information available (required by samtools)\n"
     ]
    }
   ],
   "source": [
    "f1 = Path(\"fus11/reads/trimmed/illumina_1.fq.gz\")\n",
    "f2 = Path(\"fus11/reads/trimmed/illumina_2.fq.gz\")\n",
    "nr = Path(\"fus11/reads/trimmed/nanopore.fq.gz\")\n",
    "reference = Path(\"genomes/fna/GCF_013085055.1.fna\").resolve()\n",
    "output = Path(\"alignment/\")\n",
    "\n",
    "\n",
    "ref = output/\"ref/ref.fa\"\n",
    "os.makedirs(output/\"ref\", exist_ok=True)\n",
    "os.makedirs(output/\"reads\", exist_ok=True)\n",
    "\n",
    "# Create symlink\n",
    "if not ref.exists():\n",
    "    cmd = f\"cd {output/'ref'} && ln -s {reference} ref.fa\"\n",
    "    subprocess.run(cmd, shell=True)\n",
    "\n",
    "# Index reference genome\n",
    "if not os.path.exists(f\"{ref}.sa\"):\n",
    "    cmd = f\"bwa index {ref}\"\n",
    "    subprocess.run(cmd, shell=True)\n",
    "\n",
    "# Align reads to reference\n",
    "if not (output/\"reads/nanopore.sam\").exists():\n",
    "    cmd = f\"bwa mem -t 10 {ref} {nr} > {output/'reads/nanopore.sam'}\"\n",
    "    subprocess.run(cmd, shell=True)\n",
    "if not (output/\"reads/illumina.sam\").exists():\n",
    "    cmd = f\"bwa mem -t 10 {ref} {f1} {f2} > {output/'reads/illumina.sam'}\"\n",
    "    subprocess.run(cmd, shell=True)\n",
    "\n",
    "for source in [\"nanopore\", \"illumina\"]:\n",
    "\n",
    "    # Create BAM file\n",
    "    if not (output/f\"reads/{source}.bam\").exists():\n",
    "        inp = output/f\"reads/{source}.sam\"\n",
    "        out = output/f\"reads/{source}.bam\"\n",
    "        cmd = f\"samtools view -@ 8 -bS {inp} > {out}\"\n",
    "        subprocess.run(cmd, shell=True)\n",
    "    \n",
    "    # Sort BAM file\n",
    "    if not (output/f\"reads/{source}.sorted.bam\").exists():\n",
    "        inp = output/f\"reads/{source}.bam\"\n",
    "        out = output/f\"reads/{source}.sorted.bam\"\n",
    "        cmd = f\"samtools sort -@ 8 -o {out} {inp}\"\n",
    "        subprocess.run(cmd, shell=True)\n",
    "    \n",
    "    # Caculate per-base depth\n",
    "    if not (output/f\"reads/{source}-depth.tsv\").exists():\n",
    "        inp = output/f\"reads/{source}.sorted.bam\"\n",
    "        out = output/f\"reads/{source}-depth.tsv\"\n",
    "        cmd = f\"samtools depth -@ 8 -aa {inp} > {out}\"\n",
    "        subprocess.run(cmd, shell=True)\n",
    "\n",
    "    # Get consensus fasta file\n",
    "    if not (output/f\"reads/{source}-consensus.fa\").exists():\n",
    "        inp = output/f\"reads/{source}.sorted.bam\"\n",
    "        out = output/f\"reads/{source}-consensus.fa\"\n",
    "        cmd = f\"samtools consensus -a -@ 8 -f FASTA -o {out} {inp}\"\n",
    "        subprocess.run(cmd, shell=True)\n",
    "\n",
    "    # Calculate coverage\n",
    "    if not (output/f\"reads/{source}-coverage.tsv\").exists():\n",
    "        inp = output/f\"reads/{source}.sorted.bam\"\n",
    "        out = output/f\"reads/{source}-coverage.tsv\"\n",
    "        cmd = f\"samtools coverage {inp} > {out}\"\n",
    "        subprocess.run(cmd, shell=True)"
   ]
  },
  {
   "cell_type": "markdown",
   "metadata": {},
   "source": [
    "##### Reference alignment of contigs"
   ]
  },
  {
   "cell_type": "code",
   "execution_count": null,
   "metadata": {},
   "outputs": [],
   "source": [
    "illumina = Path(\"fus11/assembly/illumina.fa\")\n",
    "hybrid = Path(\"fus11/assembly/hybrid.fa\")\n",
    "reference = Path(\"genomes/fna/GCF_013085055.1.fna\").resolve()\n",
    "output = Path(\"alignment/\")\n",
    "\n",
    "\n",
    "ref = output/\"ref/ref.fa\"\n",
    "os.makedirs(output/\"ref\", exist_ok=True)\n",
    "os.makedirs(output/\"contigs\", exist_ok=True)\n",
    "\n",
    "# Create symlink\n",
    "if not ref.exists():\n",
    "    cmd = f\"cd {output/'ref'} && ln -s {reference} ref.fa\"\n",
    "    subprocess.run(cmd, shell=True)\n",
    "\n",
    "# Index reference genome\n",
    "if not os.path.exists(f\"{ref}.sa\"):\n",
    "    cmd = f\"bwa index {ref}\"\n",
    "    subprocess.run(cmd, shell=True)\n",
    "\n",
    "# Align contigs to reference\n",
    "if not (output/\"contigs/hybrid.sam\").exists():\n",
    "    cmd = f\"bwa mem -t 10 {ref} {hybrid} > {output/'contigs/hybrid.sam'}\"\n",
    "    subprocess.run(cmd, shell=True)\n",
    "if not (output/\"contigs/illumina.sam\").exists():\n",
    "    cmd = f\"bwa mem -t 10 {ref} {illumina} > {output/'contigs/illumina.sam'}\"\n",
    "    subprocess.run(cmd, shell=True)\n",
    "\n",
    "for source in [\"hybrid\", \"illumina\"]:\n",
    "\n",
    "    # Create BAM file\n",
    "    if not (output/f\"contigs/{source}.bam\").exists():\n",
    "        inp = output/f\"contigs/{source}.sam\"\n",
    "        out = output/f\"contigs/{source}.bam\"\n",
    "        cmd = f\"samtools view -@ 8 -bS {inp} > {out}\"\n",
    "        subprocess.run(cmd, shell=True)\n",
    "    \n",
    "    # Sort BAM file\n",
    "    if not (output/f\"contigs/{source}.sorted.bam\").exists():\n",
    "        inp = output/f\"contigs/{source}.bam\"\n",
    "        out = output/f\"contigs/{source}.sorted.bam\"\n",
    "        cmd = f\"samtools sort -@ 8 -o {out} {inp}\"\n",
    "        subprocess.run(cmd, shell=True)\n",
    "    \n",
    "    # Caculate per-base depth\n",
    "    if not (output/f\"contigs/{source}-depth.tsv\").exists():\n",
    "        inp = output/f\"contigs/{source}.sorted.bam\"\n",
    "        out = output/f\"contigs/{source}-depth.tsv\"\n",
    "        cmd = f\"samtools depth -@ 8 -aa {inp} > {out}\"\n",
    "        subprocess.run(cmd, shell=True)\n",
    "    \n",
    "    # Get consensus fasta file\n",
    "    if not (output/f\"contigs/{source}-consensus.fa\").exists():\n",
    "        inp = output/f\"contigs/{source}.sorted.bam\"\n",
    "        out = output/f\"contigs/{source}-consensus.fa\"\n",
    "        cmd = f\"samtools consensus -a -@ 8 -f FASTA -o {out} {inp}\"\n",
    "        subprocess.run(cmd, shell=True)"
   ]
  },
  {
   "cell_type": "markdown",
   "metadata": {},
   "source": [
    "##### BiG-SCAPE"
   ]
  },
  {
   "cell_type": "code",
   "execution_count": 15,
   "metadata": {},
   "outputs": [],
   "source": [
    "bigscape_dir = Path(\"/home/anton/micromamba/envs/bigscape/BiG-SCAPE-1.1.5/\")\n",
    "bgc = Path(\"bgc\").resolve()\n",
    "files = bgc.glob(\"[Ghi]*/*region*.gbk\")\n",
    "\n",
    "# Create symlinks to gbk files\n",
    "inp = bgc/\"gbk\"\n",
    "out = Path(\"bigscape\")\n",
    "os.makedirs(inp, exist_ok=True)\n",
    "for file in files:\n",
    "    link = f\"{file.parent.stem}.{file.stem}.gbk\"\n",
    "    if not (inp/link).exists():\n",
    "        cmd = f\"cd {inp} && ln -s {file} {link}\"\n",
    "        subprocess.run(cmd, shell=True)\n",
    "\n",
    "# Run bigscape\n",
    "cmd = (\n",
    "    f\"micromamba run -n bigscape python3 {bigscape_dir/'bigscape.py'} \"\n",
    "    f\"-i {inp} -o {out} --mix --hybrids-off --mode auto --pfam_dir \"\n",
    "    f\"{bigscape_dir}\")\n",
    "subprocess.run(cmd, shell=True)"
   ]
  },
  {
   "cell_type": "markdown",
   "metadata": {},
   "source": [
    "##### Short read coverage and depth diagram"
   ]
  },
  {
   "cell_type": "code",
   "execution_count": 3,
   "metadata": {},
   "outputs": [
    {
     "data": {
      "text/html": [
       "<div>\n",
       "<style scoped>\n",
       "    .dataframe tbody tr th:only-of-type {\n",
       "        vertical-align: middle;\n",
       "    }\n",
       "\n",
       "    .dataframe tbody tr th {\n",
       "        vertical-align: top;\n",
       "    }\n",
       "\n",
       "    .dataframe thead th {\n",
       "        text-align: right;\n",
       "    }\n",
       "</style>\n",
       "<table border=\"1\" class=\"dataframe\">\n",
       "  <thead>\n",
       "    <tr style=\"text-align: right;\">\n",
       "      <th></th>\n",
       "      <th>#rname</th>\n",
       "      <th>startpos</th>\n",
       "      <th>endpos</th>\n",
       "      <th>numreads</th>\n",
       "      <th>covbases</th>\n",
       "      <th>coverage</th>\n",
       "      <th>meandepth</th>\n",
       "      <th>meanbaseq</th>\n",
       "      <th>meanmapq</th>\n",
       "      <th>chr</th>\n",
       "    </tr>\n",
       "  </thead>\n",
       "  <tbody>\n",
       "    <tr>\n",
       "      <th>0</th>\n",
       "      <td>NC_072840.1</td>\n",
       "      <td>1</td>\n",
       "      <td>6487135</td>\n",
       "      <td>2619924</td>\n",
       "      <td>6179431</td>\n",
       "      <td>95.2567</td>\n",
       "      <td>76.0098</td>\n",
       "      <td>34.2</td>\n",
       "      <td>54.2</td>\n",
       "      <td>I</td>\n",
       "    </tr>\n",
       "    <tr>\n",
       "      <th>1</th>\n",
       "      <td>NC_072841.1</td>\n",
       "      <td>1</td>\n",
       "      <td>5611497</td>\n",
       "      <td>2111475</td>\n",
       "      <td>5277890</td>\n",
       "      <td>94.0549</td>\n",
       "      <td>72.1053</td>\n",
       "      <td>34.2</td>\n",
       "      <td>53.7</td>\n",
       "      <td>II</td>\n",
       "    </tr>\n",
       "    <tr>\n",
       "      <th>2</th>\n",
       "      <td>NC_072842.1</td>\n",
       "      <td>1</td>\n",
       "      <td>5151772</td>\n",
       "      <td>2057761</td>\n",
       "      <td>4920100</td>\n",
       "      <td>95.5031</td>\n",
       "      <td>75.7342</td>\n",
       "      <td>34.2</td>\n",
       "      <td>53.4</td>\n",
       "      <td>III</td>\n",
       "    </tr>\n",
       "    <tr>\n",
       "      <th>3</th>\n",
       "      <td>NC_072843.1</td>\n",
       "      <td>1</td>\n",
       "      <td>4731052</td>\n",
       "      <td>2671952</td>\n",
       "      <td>4587231</td>\n",
       "      <td>96.9601</td>\n",
       "      <td>116.6110</td>\n",
       "      <td>34.2</td>\n",
       "      <td>39.6</td>\n",
       "      <td>IV</td>\n",
       "    </tr>\n",
       "    <tr>\n",
       "      <th>4</th>\n",
       "      <td>NC_072844.1</td>\n",
       "      <td>1</td>\n",
       "      <td>4523040</td>\n",
       "      <td>1794178</td>\n",
       "      <td>4304705</td>\n",
       "      <td>95.1728</td>\n",
       "      <td>74.6202</td>\n",
       "      <td>34.2</td>\n",
       "      <td>53.6</td>\n",
       "      <td>V</td>\n",
       "    </tr>\n",
       "    <tr>\n",
       "      <th>5</th>\n",
       "      <td>NC_072845.1</td>\n",
       "      <td>1</td>\n",
       "      <td>4300638</td>\n",
       "      <td>1570217</td>\n",
       "      <td>4091612</td>\n",
       "      <td>95.1397</td>\n",
       "      <td>71.0655</td>\n",
       "      <td>34.2</td>\n",
       "      <td>53.7</td>\n",
       "      <td>VI</td>\n",
       "    </tr>\n",
       "    <tr>\n",
       "      <th>6</th>\n",
       "      <td>NC_072846.1</td>\n",
       "      <td>1</td>\n",
       "      <td>4259108</td>\n",
       "      <td>816993</td>\n",
       "      <td>2364795</td>\n",
       "      <td>55.5232</td>\n",
       "      <td>34.1631</td>\n",
       "      <td>34.2</td>\n",
       "      <td>37.4</td>\n",
       "      <td>VII</td>\n",
       "    </tr>\n",
       "    <tr>\n",
       "      <th>7</th>\n",
       "      <td>NC_072847.1</td>\n",
       "      <td>1</td>\n",
       "      <td>3716460</td>\n",
       "      <td>1396886</td>\n",
       "      <td>3351531</td>\n",
       "      <td>90.1807</td>\n",
       "      <td>69.7068</td>\n",
       "      <td>34.2</td>\n",
       "      <td>52.0</td>\n",
       "      <td>VIII</td>\n",
       "    </tr>\n",
       "    <tr>\n",
       "      <th>8</th>\n",
       "      <td>NC_072848.1</td>\n",
       "      <td>1</td>\n",
       "      <td>3277645</td>\n",
       "      <td>1087410</td>\n",
       "      <td>2981697</td>\n",
       "      <td>90.9707</td>\n",
       "      <td>64.7296</td>\n",
       "      <td>34.2</td>\n",
       "      <td>52.8</td>\n",
       "      <td>IX</td>\n",
       "    </tr>\n",
       "    <tr>\n",
       "      <th>9</th>\n",
       "      <td>NC_072849.1</td>\n",
       "      <td>1</td>\n",
       "      <td>2893631</td>\n",
       "      <td>763602</td>\n",
       "      <td>2561077</td>\n",
       "      <td>88.5074</td>\n",
       "      <td>54.9763</td>\n",
       "      <td>34.2</td>\n",
       "      <td>52.4</td>\n",
       "      <td>X</td>\n",
       "    </tr>\n",
       "    <tr>\n",
       "      <th>10</th>\n",
       "      <td>NC_072850.1</td>\n",
       "      <td>1</td>\n",
       "      <td>2853886</td>\n",
       "      <td>716672</td>\n",
       "      <td>2502868</td>\n",
       "      <td>87.7003</td>\n",
       "      <td>53.4933</td>\n",
       "      <td>34.2</td>\n",
       "      <td>51.2</td>\n",
       "      <td>XI</td>\n",
       "    </tr>\n",
       "    <tr>\n",
       "      <th>11</th>\n",
       "      <td>NC_072851.1</td>\n",
       "      <td>1</td>\n",
       "      <td>2552985</td>\n",
       "      <td>677408</td>\n",
       "      <td>2253476</td>\n",
       "      <td>88.2683</td>\n",
       "      <td>53.9502</td>\n",
       "      <td>34.2</td>\n",
       "      <td>50.7</td>\n",
       "      <td>XII</td>\n",
       "    </tr>\n",
       "  </tbody>\n",
       "</table>\n",
       "</div>"
      ],
      "text/plain": [
       "         #rname  startpos   endpos  numreads  covbases  coverage  meandepth  \\\n",
       "0   NC_072840.1         1  6487135   2619924   6179431   95.2567    76.0098   \n",
       "1   NC_072841.1         1  5611497   2111475   5277890   94.0549    72.1053   \n",
       "2   NC_072842.1         1  5151772   2057761   4920100   95.5031    75.7342   \n",
       "3   NC_072843.1         1  4731052   2671952   4587231   96.9601   116.6110   \n",
       "4   NC_072844.1         1  4523040   1794178   4304705   95.1728    74.6202   \n",
       "5   NC_072845.1         1  4300638   1570217   4091612   95.1397    71.0655   \n",
       "6   NC_072846.1         1  4259108    816993   2364795   55.5232    34.1631   \n",
       "7   NC_072847.1         1  3716460   1396886   3351531   90.1807    69.7068   \n",
       "8   NC_072848.1         1  3277645   1087410   2981697   90.9707    64.7296   \n",
       "9   NC_072849.1         1  2893631    763602   2561077   88.5074    54.9763   \n",
       "10  NC_072850.1         1  2853886    716672   2502868   87.7003    53.4933   \n",
       "11  NC_072851.1         1  2552985    677408   2253476   88.2683    53.9502   \n",
       "\n",
       "    meanbaseq  meanmapq   chr  \n",
       "0        34.2      54.2     I  \n",
       "1        34.2      53.7    II  \n",
       "2        34.2      53.4   III  \n",
       "3        34.2      39.6    IV  \n",
       "4        34.2      53.6     V  \n",
       "5        34.2      53.7    VI  \n",
       "6        34.2      37.4   VII  \n",
       "7        34.2      52.0  VIII  \n",
       "8        34.2      52.8    IX  \n",
       "9        34.2      52.4     X  \n",
       "10       34.2      51.2    XI  \n",
       "11       34.2      50.7   XII  "
      ]
     },
     "execution_count": 3,
     "metadata": {},
     "output_type": "execute_result"
    }
   ],
   "source": [
    "coverage = pd.read_csv(\"alignment/reads/illumina-coverage.tsv\", sep=\"\\t\")\n",
    "coverage[\"chr\"] = [\n",
    "    \"I\", \"II\", \"III\", \"IV\", \"V\", \"VI\", \"VII\", \"VIII\", \"IX\", \"X\", \"XI\", \"XII\"\n",
    "]\n",
    "coverage"
   ]
  },
  {
   "cell_type": "code",
   "execution_count": 19,
   "metadata": {},
   "outputs": [
    {
     "data": {
      "image/png": "[encoded data removed]",
      "text/plain": [
       "<Figure size 840x440 with 2 Axes>"
      ]
     },
     "metadata": {},
     "output_type": "display_data"
    }
   ],
   "source": [
    "coverage = pd.read_csv(\"alignment/reads/illumina-coverage.tsv\", sep=\"\\t\")\n",
    "coverage[\"chr\"] = [\n",
    "    \"I\", \"II\", \"III\", \"IV\", \"V\", \"VI\", \"VII\", \"VIII\", \"IX\", \"X\", \"XI\", \"XII\"\n",
    "]\n",
    "x = coverage[\"chr\"]\n",
    "y = coverage[\"meandepth\"]\n",
    "c = coverage[\"coverage\"] / 100\n",
    "color = \"#00c853\"\n",
    "cmap = sns.light_palette(color, as_cmap=True, n_colors=12)\n",
    "palette = sns.light_palette(color, n_colors=12)\n",
    "fig, ax = plt.subplots(figsize=(4.2, 2.2), dpi=200)\n",
    "norm = plt.Normalize(c.min(), c.max())\n",
    "sm = ScalarMappable(cmap=cmap, norm=norm)\n",
    "sns.barplot(x=x, y=y, hue=c, dodge=False, ax=ax, palette=palette)\n",
    "ax.get_legend().remove()\n",
    "cbar = fig.colorbar(sm, ax=ax)\n",
    "cbar.set_label(\"Coverage\", rotation=270, labelpad=15)\n",
    "ax.spines['top'].set_visible(False)\n",
    "ax.spines['right'].set_visible(False)\n",
    "ax.set_xlabel(\"Chromosome\")\n",
    "ax.set_ylabel(\"Mean Depth\")\n",
    "plt.tight_layout()\n",
    "plt.savefig(\"img/illumina-coverage.svg\", transparent=True)"
   ]
  },
  {
   "cell_type": "markdown",
   "metadata": {},
   "source": [
    "##### Read coverage diagram"
   ]
  },
  {
   "cell_type": "code",
   "execution_count": 35,
   "metadata": {},
   "outputs": [
    {
     "data": {
      "text/html": [
       "<div>\n",
       "<style scoped>\n",
       "    .dataframe tbody tr th:only-of-type {\n",
       "        vertical-align: middle;\n",
       "    }\n",
       "\n",
       "    .dataframe tbody tr th {\n",
       "        vertical-align: top;\n",
       "    }\n",
       "\n",
       "    .dataframe thead th {\n",
       "        text-align: right;\n",
       "    }\n",
       "</style>\n",
       "<table border=\"1\" class=\"dataframe\">\n",
       "  <thead>\n",
       "    <tr style=\"text-align: right;\">\n",
       "      <th></th>\n",
       "      <th>chr</th>\n",
       "      <th>pos</th>\n",
       "      <th>depth</th>\n",
       "    </tr>\n",
       "  </thead>\n",
       "  <tbody>\n",
       "    <tr>\n",
       "      <th>0</th>\n",
       "      <td>NC_072840.1</td>\n",
       "      <td>1</td>\n",
       "      <td>1</td>\n",
       "    </tr>\n",
       "    <tr>\n",
       "      <th>1</th>\n",
       "      <td>NC_072840.1</td>\n",
       "      <td>2</td>\n",
       "      <td>1</td>\n",
       "    </tr>\n",
       "    <tr>\n",
       "      <th>2</th>\n",
       "      <td>NC_072840.1</td>\n",
       "      <td>3</td>\n",
       "      <td>2</td>\n",
       "    </tr>\n",
       "    <tr>\n",
       "      <th>3</th>\n",
       "      <td>NC_072840.1</td>\n",
       "      <td>4</td>\n",
       "      <td>2</td>\n",
       "    </tr>\n",
       "    <tr>\n",
       "      <th>4</th>\n",
       "      <td>NC_072840.1</td>\n",
       "      <td>5</td>\n",
       "      <td>2</td>\n",
       "    </tr>\n",
       "    <tr>\n",
       "      <th>...</th>\n",
       "      <td>...</td>\n",
       "      <td>...</td>\n",
       "      <td>...</td>\n",
       "    </tr>\n",
       "    <tr>\n",
       "      <th>50358844</th>\n",
       "      <td>NC_072851.1</td>\n",
       "      <td>2552981</td>\n",
       "      <td>0</td>\n",
       "    </tr>\n",
       "    <tr>\n",
       "      <th>50358845</th>\n",
       "      <td>NC_072851.1</td>\n",
       "      <td>2552982</td>\n",
       "      <td>0</td>\n",
       "    </tr>\n",
       "    <tr>\n",
       "      <th>50358846</th>\n",
       "      <td>NC_072851.1</td>\n",
       "      <td>2552983</td>\n",
       "      <td>0</td>\n",
       "    </tr>\n",
       "    <tr>\n",
       "      <th>50358847</th>\n",
       "      <td>NC_072851.1</td>\n",
       "      <td>2552984</td>\n",
       "      <td>0</td>\n",
       "    </tr>\n",
       "    <tr>\n",
       "      <th>50358848</th>\n",
       "      <td>NC_072851.1</td>\n",
       "      <td>2552985</td>\n",
       "      <td>0</td>\n",
       "    </tr>\n",
       "  </tbody>\n",
       "</table>\n",
       "<p>50358849 rows × 3 columns</p>\n",
       "</div>"
      ],
      "text/plain": [
       "                  chr      pos  depth\n",
       "0         NC_072840.1        1      1\n",
       "1         NC_072840.1        2      1\n",
       "2         NC_072840.1        3      2\n",
       "3         NC_072840.1        4      2\n",
       "4         NC_072840.1        5      2\n",
       "...               ...      ...    ...\n",
       "50358844  NC_072851.1  2552981      0\n",
       "50358845  NC_072851.1  2552982      0\n",
       "50358846  NC_072851.1  2552983      0\n",
       "50358847  NC_072851.1  2552984      0\n",
       "50358848  NC_072851.1  2552985      0\n",
       "\n",
       "[50358849 rows x 3 columns]"
      ]
     },
     "execution_count": 35,
     "metadata": {},
     "output_type": "execute_result"
    }
   ],
   "source": [
    "data = pd.read_csv(\n",
    "    \"alignment/illumina-depth.tsv\", sep=\"\\t\", header=None,\n",
    "    names=[\"chr\", \"pos\", \"depth\"])\n",
    "data"
   ]
  },
  {
   "cell_type": "code",
   "execution_count": 2,
   "metadata": {},
   "outputs": [
    {
     "data": {
      "text/plain": [
       "<matplotlib.collections.LineCollection at 0x7fbaed7c88b0>"
      ]
     },
     "execution_count": 2,
     "metadata": {},
     "output_type": "execute_result"
    },
    {
     "data": {
      "image/png": "[encoded data removed]",
      "text/plain": [
       "<Figure size 640x480 with 1 Axes>"
      ]
     },
     "metadata": {},
     "output_type": "display_data"
    }
   ],
   "source": [
    "data = pd.read_csv(\n",
    "    \"alignment/illumina-depth.tsv\", sep=\"\\t\", header=None,\n",
    "    names=[\"chr\", \"pos\", \"depth\"])\n",
    "fig, ax = plt.subplots()\n",
    "ax.plot(data.index, data.depth, color=\"#00c853\")\n",
    "ax.set_yscale(\"log\")\n",
    "ax.fill_between(data.index, data.depth, color=\"#00c853\")\n",
    "ax.set_xlabel(\"Position\")\n",
    "ax.set_ylabel(\"Coverage\")\n",
    "ax.spines['top'].set_visible(False)\n",
    "ax.spines['right'].set_visible(False)\n",
    "ax.vlines(data[data.pos == 1].index[1:], ax.get_ylim()[0], ax.get_ylim()[1])"
   ]
  },
  {
   "cell_type": "code",
   "execution_count": 3,
   "metadata": {},
   "outputs": [
    {
     "data": {
      "text/plain": [
       "<matplotlib.collections.LineCollection at 0x7fbaa53f49d0>"
      ]
     },
     "execution_count": 3,
     "metadata": {},
     "output_type": "execute_result"
    },
    {
     "data": {
      "image/png": "[encoded data removed]",
      "text/plain": [
       "<Figure size 640x480 with 1 Axes>"
      ]
     },
     "metadata": {},
     "output_type": "display_data"
    }
   ],
   "source": [
    "data = pd.read_csv(\n",
    "    \"alignment/nanopore-depth.tsv\", sep=\"\\t\", header=None,\n",
    "    names=[\"chr\", \"pos\", \"depth\"])\n",
    "fig, ax = plt.subplots()\n",
    "ax.plot(data.index, data.depth, color=\"#00c853\")\n",
    "ax.set_yscale(\"log\")\n",
    "ax.fill_between(data.index, data.depth, color=\"#00c853\")\n",
    "ax.set_xlabel(\"Position\")\n",
    "ax.set_ylabel(\"Coverage\")\n",
    "ax.spines['top'].set_visible(False)\n",
    "ax.spines['right'].set_visible(False)\n",
    "ax.vlines(data[data.pos == 1].index[1:], ax.get_ylim()[0], ax.get_ylim()[1])"
   ]
  },
  {
   "cell_type": "code",
   "execution_count": 6,
   "metadata": {},
   "outputs": [
    {
     "data": {
      "image/png": "[encoded data removed]",
      "text/plain": [
       "<Figure size 640x480 with 2 Axes>"
      ]
     },
     "metadata": {},
     "output_type": "display_data"
    }
   ],
   "source": [
    "fig, ax = plt.subplots(2, 1)\n"
   ]
  },
  {
   "cell_type": "markdown",
   "metadata": {},
   "source": [
    "##### Read length histogram"
   ]
  },
  {
   "cell_type": "code",
   "execution_count": 21,
   "metadata": {
    "execution": {
     "iopub.execute_input": "2023-10-12T04:29:45.344858Z",
     "iopub.status.busy": "2023-10-12T04:29:45.344561Z",
     "iopub.status.idle": "2023-10-12T04:29:45.986972Z",
     "shell.execute_reply": "2023-10-12T04:29:45.985980Z"
    }
   },
   "outputs": [
    {
     "name": "stderr",
     "output_type": "stream",
     "text": [
      "/tmp/ipykernel_62071/3764247087.py:19: UserWarning: FixedFormatter should only be used together with FixedLocator\n",
      "  plt.gca().set_xticklabels([f\"{int(x)}K\" for x in plt.gca().get_xticks()/1000])\n",
      "/tmp/ipykernel_62071/3764247087.py:20: UserWarning: FixedFormatter should only be used together with FixedLocator\n",
      "  plt.gca().set_yticklabels([f\"{int(y)}\" for y in plt.gca().get_yticks()])\n"
     ]
    },
    {
     "data": {
      "image/png": "[encoded data removed]",
      "text/plain": [
       "<Figure size 800x500 with 1 Axes>"
      ]
     },
     "metadata": {},
     "output_type": "display_data"
    }
   ],
   "source": [
    "# Get read length from all reads\n",
    "with gzip.open(\"fus11/reads/trimmed/nanopore.fq.gz\", \"rt\") as handle:\n",
    "    lengths = [len(record.seq) for record in SeqIO.parse(handle, \"fastq\")]\n",
    "\n",
    "# Create figure\n",
    "plt.figure(figsize=(4, 2.5), dpi=200)\n",
    "sns.histplot(lengths, binwidth=5000, color=\"#00b0ff\", edgecolor=\"white\")\n",
    "plt.xlabel(\"Read length\")\n",
    "plt.ylabel(\"Read count\")\n",
    "\n",
    "# Use logarithmic scale for y axis as read lengths vary significantly\n",
    "plt.yscale(\"log\")\n",
    "\n",
    "# Remove top and right lines\n",
    "plt.gca().spines['top'].set_visible(False)\n",
    "plt.gca().spines['right'].set_visible(False)\n",
    "\n",
    "# Simplify tick labels\n",
    "plt.gca().set_xticklabels([f\"{int(x)}K\" for x in plt.gca().get_xticks()/1000])\n",
    "plt.gca().set_yticklabels([f\"{int(y)}\" for y in plt.gca().get_yticks()])\n",
    "plt.tight_layout()\n",
    "plt.axvline(np.mean(lengths), color=\"#f50057\")\n",
    "plt.savefig(\"img/read-length.svg\", transparent=True)"
   ]
  },
  {
   "cell_type": "code",
   "execution_count": 83,
   "metadata": {},
   "outputs": [
    {
     "data": {
      "text/plain": [
       "3148.264755480607"
      ]
     },
     "execution_count": 83,
     "metadata": {},
     "output_type": "execute_result"
    }
   ],
   "source": [
    "np.mean(lengths)"
   ]
  }
 ],
 "metadata": {
  "kernelspec": {
   "display_name": "Python 3",
   "language": "python",
   "name": "python3"
  },
  "language_info": {
   "codemirror_mode": {
    "name": "ipython",
    "version": 3
   },
   "file_extension": ".py",
   "mimetype": "text/x-python",
   "name": "python",
   "nbconvert_exporter": "python",
   "pygments_lexer": "ipython3",
   "version": "3.10.13"
  }
 },
 "nbformat": 4,
 "nbformat_minor": 2
}
